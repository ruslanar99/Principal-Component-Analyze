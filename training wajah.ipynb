{
 "cells": [
  {
   "cell_type": "markdown",
   "metadata": {},
   "source": [
    "# <center>Training Wajah</center>"
   ]
  },
  {
   "cell_type": "markdown",
   "metadata": {},
   "source": [
    "Sebelum melakukan predikis wajah, terlebih dahulu data wajah yang telah dikumpulkan itu dilatih agar program dapat mengenalinya nanti"
   ]
  },
  {
   "cell_type": "markdown",
   "metadata": {},
   "source": [
    "## Mengimpor Library "
   ]
  },
  {
   "cell_type": "markdown",
   "metadata": {},
   "source": [
    "Adapun Library yang dibutuhkan adalah:\n",
    "1. Os\n",
    "2. CV2\n",
    "3. Numpy"
   ]
  },
  {
   "cell_type": "code",
   "execution_count": 8,
   "metadata": {},
   "outputs": [],
   "source": [
    "# Mengimpor library yang dibutuhkan\n",
    "import os\n",
    "import cv2 \n",
    "import numpy as np"
   ]
  },
  {
   "cell_type": "markdown",
   "metadata": {},
   "source": [
    "## Membuat fungsi <Italic>Distance Euclidean</Italic> "
   ]
  },
  {
   "cell_type": "markdown",
   "metadata": {},
   "source": [
    "Berikut ini adalah syntax yang digunakan untuk membuat Jarak Euclidean"
   ]
  },
  {
   "cell_type": "code",
   "execution_count": 1,
   "metadata": {},
   "outputs": [],
   "source": [
    "# Jarak Euclidean \n",
    "def unFlatten(vector,rows,cols):\n",
    "    img = []\n",
    "    cutter = 0\n",
    "    while(cutter+cols<=rows*cols):\n",
    "        try:\n",
    "            img.append(vector[cutter:cutter+cols])\n",
    "        except:\n",
    "            img = vector[cutter:cutter+cols]\n",
    "        cutter+=cols\n",
    "    img = np.array(img)\n",
    "    return img\n",
    "\n",
    "# Mengubah Ukuran Gambar \n",
    "w=200\n",
    "h=200"
   ]
  },
  {
   "cell_type": "markdown",
   "metadata": {},
   "source": [
    "## Melatih Dataset"
   ]
  },
  {
   "cell_type": "markdown",
   "metadata": {},
   "source": [
    "Berikut ini adalah sytax yang digunakan untuk melatih dataset (wajah) yang selanjutnya akan diuji."
   ]
  },
  {
   "cell_type": "code",
   "execution_count": 10,
   "metadata": {},
   "outputs": [
    {
     "name": "stdout",
     "output_type": "stream",
     "text": [
      "Read from: agus Directory \n",
      "aaaa.jpeg\n",
      "agusss.jpeg\n",
      "WhatsApp Image 2019-08-08 at 20.28.42.jpeg\n",
      "Read from: arjun Directory \n",
      "nnn.jpeg\n",
      "WhatsApp Image 2019-08-08 at 21.15.11.jpeg\n",
      "WhatsApp Image 2019-08-08 at 21.15.12.jpeg\n",
      "WhatsApp Image 2019-08-08 at 21.15.13 (1).jpeg\n",
      "Read from: aslam Directory \n",
      "WhatsApp Image 2019-08-10 at 10.57.51.jpeg\n",
      "WhatsApp Image 2019-08-10 at 10.58.36.jpeg\n",
      "WhatsApp Image 2019-08-10 at 10.58.48.jpeg\n",
      "WhatsApp Image 2019-08-10 at 10.58.58.jpeg\n",
      "Read from: harianto Directory \n",
      "WhatsApp Image 2019-08-08 at 21.23.07.jpeg\n",
      "WhatsApp Image 2019-08-08 at 21.23.08.jpeg\n",
      "WhatsApp Image 2019-08-08 at 21.23.09 (1).jpeg\n",
      "WhatsApp Image 2019-08-08 at 21.23.09.jpeg\n",
      "WhatsApp Image 2019-08-08 at 21.23.10 (1).jpeg\n",
      "Read from: riski Directory \n",
      "riski.jpeg\n",
      "WhatsApp Image 2019-08-08 at 21.03.57 (1).jpeg\n",
      "WhatsApp Image 2019-08-08 at 21.03.58 (1).jpeg\n",
      "WhatsApp Image 2019-08-08 at 21.03.58.jpeg\n"
     ]
    }
   ],
   "source": [
    "# Membangun Matriks Masukan\n",
    "face=['agus','arjun','aslam','harianto','riski'] #Jumlah nama bisa disesuaikan dengan jumlah dataset.\n",
    "\n",
    "def main():\n",
    "\tfor v in face:\n",
    "\t\tin_matrix = None \n",
    "\t\timgcnt=0\n",
    "\t\tprint ('Read from: ' + v + ' Directory ')\n",
    "\t\tfor f in os.listdir(os.path.join('training/',v)):\n",
    "\t\t    imgcnt+=1\n",
    "\t\t    print(f)\n",
    "            \n",
    "\t\t    # Membaca gambar sebagai gambar tingkat abu-abu. (Read the image in as a gray level image.) \n",
    "\t\t    img = cv2.imread(os.path.join('training/',v, f), cv2.IMREAD_GRAYSCALE)\n",
    "\t\t    img_resized = cv2.resize(img,(w,h))\n",
    "\n",
    "\t\t    # Mengubah gambar ke w*h (let's resize them to w*h) \n",
    "\t\t    vec = img_resized.reshape(w * h)\n",
    "\t\t    \n",
    "\t\t    # stack them up to form the matrix\n",
    "\t\t    try:\n",
    "\t\t        in_matrix = np.vstack((in_matrix, vec))\n",
    "\t\t    except:\n",
    "\t\t        in_matrix = vec\n",
    "\t\t    \n",
    "\t\t    # Menjalankan fungsi PCA \n",
    "\t\tif in_matrix is not None:\n",
    "\t\t    mean, eigenvectors = cv2.PCACompute(in_matrix, np.mean(in_matrix, axis=0).reshape(1,-1))\n",
    "\n",
    "\t\timg = unFlatten(mean.transpose(), w, h) #Reconstruct mean to represent an image\n",
    "\t\tcv2.imwrite('trained/pca_face_'+v+'.png',img)\n",
    "\n",
    "\tcv2.waitKey(0)\n",
    "\tcv2.destroyAllWindows()\n",
    "\n",
    "###################################################################################################\n",
    "if __name__ == \"__main__\":\n",
    "    main()"
   ]
  },
  {
   "cell_type": "code",
   "execution_count": null,
   "metadata": {},
   "outputs": [],
   "source": []
  }
 ],
 "metadata": {
  "kernelspec": {
   "display_name": "Python 3",
   "language": "python",
   "name": "python3"
  },
  "language_info": {
   "codemirror_mode": {
    "name": "ipython",
    "version": 3
   },
   "file_extension": ".py",
   "mimetype": "text/x-python",
   "name": "python",
   "nbconvert_exporter": "python",
   "pygments_lexer": "ipython3",
   "version": "3.6.8"
  }
 },
 "nbformat": 4,
 "nbformat_minor": 2
}
